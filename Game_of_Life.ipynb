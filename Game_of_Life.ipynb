{
  "nbformat": 4,
  "nbformat_minor": 0,
  "metadata": {
    "colab": {
      "name": "Untitled0.ipynb",
      "provenance": [],
      "authorship_tag": "ABX9TyN7DtsPpKfNeMf6vIBFocTT",
      "include_colab_link": true
    },
    "kernelspec": {
      "name": "python3",
      "display_name": "Python 3"
    },
    "language_info": {
      "name": "python"
    }
  },
  "cells": [
    {
      "cell_type": "markdown",
      "metadata": {
        "id": "view-in-github",
        "colab_type": "text"
      },
      "source": [
        "<a href=\"https://colab.research.google.com/github/mehdi-abbasi/ChatPythonSocket/blob/master/Game_of_Life.ipynb\" target=\"_parent\"><img src=\"https://colab.research.google.com/assets/colab-badge.svg\" alt=\"Open In Colab\"/></a>"
      ]
    },
    {
      "cell_type": "code",
      "execution_count": 69,
      "metadata": {
        "colab": {
          "base_uri": "https://localhost:8080/"
        },
        "id": "TE3pwpCngKV7",
        "outputId": "5ac5765a-5231-4b95-9ac1-513caff7c2cb"
      },
      "outputs": [
        {
          "output_type": "stream",
          "name": "stdout",
          "text": [
            "⚪⚪⚪⚪⚪⚪⚪⚪⚪⚪⚪⚪⚪⚪⚪⚪⚪⚪⚪⚪⚪⚪⚪⚪⚪⚪⚪⚪⚪⚪⚪⚪⚪⚪⚪⚪⚪⚪⚪⚪⚪⚪⚪⚪⚪⚪⚪⚪⚪⚪\n",
            "⚫⚪⚪⚪⚪⚪⚪⚪⚪⚪⚪⚪⚪⚪⚪⚪⚪⚪⚪⚪⚪⚪⚪⚪⚪⚪⚪⚪⚪⚪⚪⚪⚪⚪⚪⚪⚪⚪⚪⚪⚪⚪⚪⚪⚪⚪⚪⚪⚪⚪\n",
            "⚪⚫⚪⚪⚪⚪⚪⚪⚪⚪⚪⚪⚪⚪⚪⚪⚪⚪⚪⚪⚪⚪⚪⚪⚪⚪⚪⚪⚪⚪⚪⚪⚪⚪⚪⚪⚪⚪⚪⚪⚪⚪⚪⚪⚪⚪⚪⚪⚪⚫\n",
            "⚪⚫⚪⚪⚪⚪⚪⚪⚪⚪⚪⚪⚪⚪⚪⚪⚪⚪⚪⚪⚪⚪⚪⚪⚪⚪⚪⚪⚪⚪⚪⚪⚪⚫⚫⚪⚪⚪⚪⚪⚪⚪⚪⚪⚪⚪⚪⚪⚪⚫\n",
            "⚫⚪⚪⚪⚪⚪⚪⚪⚪⚪⚪⚪⚪⚪⚪⚪⚪⚪⚪⚪⚫⚪⚪⚪⚪⚪⚪⚪⚪⚪⚪⚪⚫⚪⚪⚫⚪⚪⚪⚪⚪⚪⚪⚪⚪⚪⚪⚪⚪⚪\n",
            "⚪⚪⚪⚪⚪⚪⚪⚪⚪⚫⚫⚫⚪⚪⚪⚪⚪⚪⚪⚫⚪⚫⚪⚪⚪⚪⚪⚪⚪⚪⚪⚪⚪⚫⚫⚪⚪⚪⚪⚪⚪⚪⚪⚪⚪⚪⚪⚪⚪⚪\n",
            "⚪⚪⚪⚪⚪⚪⚪⚪⚪⚪⚪⚪⚪⚪⚪⚪⚪⚪⚫⚪⚪⚫⚪⚪⚪⚪⚪⚪⚪⚪⚪⚪⚪⚪⚪⚪⚪⚪⚪⚪⚪⚪⚪⚪⚪⚪⚪⚪⚪⚪\n",
            "⚪⚪⚪⚪⚪⚪⚪⚪⚪⚪⚪⚪⚪⚫⚪⚪⚪⚪⚪⚫⚫⚪⚪⚪⚪⚪⚪⚪⚪⚪⚪⚪⚪⚪⚪⚪⚪⚪⚪⚪⚪⚪⚪⚪⚪⚪⚪⚪⚪⚪\n",
            "⚪⚪⚪⚪⚪⚪⚪⚪⚪⚪⚪⚪⚪⚫⚪⚪⚪⚪⚪⚪⚪⚪⚪⚪⚪⚪⚪⚪⚪⚪⚪⚫⚪⚪⚪⚪⚪⚪⚪⚪⚪⚪⚪⚪⚪⚪⚪⚪⚪⚪\n",
            "⚪⚪⚪⚪⚪⚪⚪⚪⚪⚪⚪⚪⚪⚫⚪⚪⚪⚪⚪⚪⚪⚪⚪⚪⚪⚪⚪⚪⚪⚪⚫⚪⚫⚪⚪⚪⚪⚪⚫⚪⚪⚪⚪⚪⚪⚪⚪⚪⚪⚪\n",
            "⚪⚪⚪⚪⚪⚪⚪⚪⚪⚪⚪⚪⚪⚪⚪⚪⚪⚪⚪⚪⚪⚪⚪⚪⚪⚪⚪⚪⚪⚪⚫⚪⚫⚪⚪⚪⚪⚫⚪⚫⚪⚪⚪⚪⚪⚪⚪⚪⚪⚪\n",
            "⚪⚪⚪⚪⚪⚪⚪⚪⚪⚪⚪⚪⚪⚪⚪⚪⚪⚪⚪⚪⚪⚪⚪⚪⚪⚪⚪⚪⚪⚪⚪⚫⚪⚪⚪⚪⚪⚪⚫⚪⚪⚪⚪⚪⚪⚪⚪⚪⚪⚪\n",
            "⚪⚪⚪⚪⚪⚪⚪⚫⚫⚪⚪⚪⚫⚫⚪⚪⚪⚪⚪⚪⚪⚪⚪⚪⚪⚪⚪⚪⚪⚪⚪⚪⚪⚪⚪⚪⚪⚪⚪⚪⚪⚪⚪⚪⚪⚪⚪⚪⚪⚪\n",
            "⚪⚪⚪⚪⚪⚪⚪⚫⚫⚪⚪⚫⚪⚪⚫⚪⚪⚪⚪⚪⚪⚪⚪⚪⚪⚪⚪⚪⚪⚪⚪⚪⚪⚪⚪⚪⚪⚪⚪⚪⚪⚪⚪⚪⚪⚪⚪⚪⚪⚪\n",
            "⚪⚪⚪⚪⚪⚪⚪⚪⚪⚪⚪⚪⚫⚫⚪⚪⚪⚪⚪⚪⚪⚪⚪⚪⚪⚪⚪⚪⚪⚪⚪⚪⚪⚪⚪⚪⚪⚪⚪⚪⚪⚪⚪⚪⚪⚪⚪⚪⚪⚪\n",
            "⚪⚪⚪⚪⚪⚪⚪⚪⚪⚪⚪⚪⚪⚪⚪⚪⚪⚪⚪⚪⚪⚪⚪⚪⚪⚪⚪⚪⚪⚪⚪⚪⚪⚪⚪⚪⚫⚫⚪⚪⚪⚪⚪⚪⚪⚪⚪⚫⚪⚪\n",
            "⚪⚪⚪⚪⚪⚪⚪⚪⚪⚪⚪⚪⚪⚪⚪⚪⚪⚪⚪⚪⚪⚪⚪⚪⚪⚪⚪⚪⚪⚪⚪⚪⚪⚪⚪⚪⚫⚪⚫⚪⚪⚪⚪⚪⚪⚪⚫⚪⚫⚪\n",
            "⚪⚪⚪⚪⚪⚪⚪⚪⚪⚪⚪⚪⚪⚪⚪⚪⚪⚪⚪⚪⚪⚪⚪⚪⚪⚪⚪⚪⚪⚪⚪⚪⚪⚪⚪⚪⚪⚫⚪⚪⚪⚪⚪⚪⚪⚪⚪⚫⚫⚪\n",
            "⚪⚪⚪⚪⚪⚪⚪⚪⚪⚪⚪⚪⚪⚪⚪⚪⚪⚪⚪⚪⚪⚪⚪⚪⚪⚪⚪⚪⚪⚪⚪⚪⚪⚪⚪⚪⚪⚪⚪⚪⚪⚪⚪⚪⚪⚪⚪⚪⚪⚪\n",
            "⚪⚪⚪⚪⚪⚪⚪⚪⚪⚪⚪⚪⚪⚪⚪⚪⚪⚪⚪⚪⚪⚪⚪⚪⚪⚪⚪⚪⚪⚪⚪⚪⚪⚪⚪⚪⚪⚪⚪⚪⚪⚪⚪⚪⚪⚪⚪⚪⚪⚪\n",
            "\n"
          ]
        }
      ],
      "source": [
        "\n",
        "import numpy as np\n",
        "from time import sleep\n",
        "from IPython.display import clear_output\n",
        "    \n",
        "\n",
        "def evolution(universe,width,height,num):\n",
        "    new_universe = universe.copy()\n",
        "    for i in range(num):\n",
        "        for w in range(width):\n",
        "            for h in range(height):\n",
        "                neighbors = []\n",
        "                neighbors.append(universe[w-1][h-1])\n",
        "                neighbors.append(universe[w-1][h])\n",
        "                neighbors.append(universe[w-1][h+1 if h+1 < height else 0])\n",
        "                neighbors.append(universe[w][h-1])\n",
        "                neighbors.append(universe[w][h+1 if h+1 < height else 0])\n",
        "                neighbors.append(universe[w+1 if w+1 < width else 0][h-1])\n",
        "                neighbors.append(universe[w+1 if w+1 < width else 0][h])\n",
        "                neighbors.append(universe[w+1 if w+1 < width else 0][h+1 if h+1 < height else 0])\n",
        "                \n",
        "                if universe[w][h]:\n",
        "                    if sum(neighbors) < 2: new_universe[w][h] = 0\n",
        "                    elif sum(neighbors) > 3: new_universe[w][h] = 0\n",
        "                else: \n",
        "                    if sum(neighbors) == 3: new_universe[w][h] = 1\n",
        "        show(new_universe)\n",
        "        sleep(0.1)\n",
        "        universe = new_universe.copy()\n",
        "\n",
        "def show(universe):\n",
        "    clear_output(wait=True)\n",
        "    univ = ''\n",
        "    for l in universe:\n",
        "        for j in l:\n",
        "            univ += '⚫' if j == 1 else '⚪'\n",
        "        univ += '\\n'\n",
        "    print(univ)\n",
        "\n",
        "def game(width,height,evolution_number):\n",
        "    universe = np.random.randint(0,2,(width,height))\n",
        "    evolution(universe,width,height,evolution_number)\n",
        "\n",
        "\n",
        "game(20,50,500)\n"
      ]
    }
  ]
}